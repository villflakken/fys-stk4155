{
 "metadata": {
  "language_info": {
   "codemirror_mode": {
    "name": "ipython",
    "version": 3
   },
   "file_extension": ".py",
   "mimetype": "text/x-python",
   "name": "python",
   "nbconvert_exporter": "python",
   "pygments_lexer": "ipython3",
   "version": "3.8.5-final"
  },
  "orig_nbformat": 2,
  "kernelspec": {
   "name": "Python 3.8.5 64-bit",
   "display_name": "Python 3.8.5 64-bit",
   "metadata": {
    "interpreter": {
     "hash": "1baa965d5efe3ac65b79dfc60c0d706280b1da80fedb7760faf2759126c4f253"
    }
   }
  }
 },
 "nbformat": 4,
 "nbformat_minor": 2,
 "cells": [
  {
   "cell_type": "code",
   "execution_count": 54,
   "metadata": {
    "tags": []
   },
   "outputs": [
    {
     "output_type": "stream",
     "name": "stdout",
     "text": "poly | dim ||     l_r ~  l_g  || l_r/l_a          l_morten\n\n   1 |   1 ||     1.0 ~  2.0  ||  0.5             3.0 \n   2 |   1 ||     3.0 ~  3.0  ||  1.0             6.0 \n   3 |   1 ||     6.0 ~  4.0  ||  1.5            10.0 \n   4 |   1 ||    10.0 ~  5.0  ||  2.0            15.0 \n   5 |   1 ||    15.0 ~  6.0  ||  2.5            21.0 \n\n   1 |   2 ||     3.0 ~  3.0  ||  1.0             3.0 \n   2 |   2 ||     6.0 ~  6.0  ||  1.0             6.0 \n   3 |   2 ||    10.0 ~ 10.0  ||  1.0            10.0 \n   4 |   2 ||    15.0 ~ 15.0  ||  1.0            15.0 \n   5 |   2 ||    21.0 ~ 21.0  ||  1.0            21.0 \n\n   1 |   3 ||     6.0 ~  4.0  ||  1.5             3.0 \n   2 |   3 ||    10.0 ~ 10.0  ||  1.0             6.0 \n   3 |   3 ||    15.0 ~ 20.0  || 0.75            10.0 \n   4 |   3 ||    21.0 ~ 35.0  ||  0.6            15.0 \n   5 |   3 ||    28.0 ~ 56.0  ||  0.5            21.0 \n"
    }
   ],
   "source": [
    "import numpy as np\n",
    "import pretty_errors\n",
    "\n",
    "def compute_n_predictors(n_poly, n_data_dimensions):\n",
    "    \"\"\"\n",
    "    Number of elements in beta (predictors)\n",
    "    \"\"\"\n",
    "    l_orig = int((n_poly+1)*(n_poly+2)/2) # Morten's code example\n",
    "    l = np.sum(np.arange(n_poly+n_data_dimensions))  # A quick rephrasing\n",
    "    # ^: \"+ 2\" stems from having 2 dimensions of input data?\n",
    "    # Alternatively, another way to phrase Morten's example could perhaps be:\n",
    "    l_gen = np.prod([(n_poly + i)/i for i in range(1, n_data_dimensions+1)])\n",
    "    #   which also seems to work for a potential len([x,y,z]) = 3 format of input data\n",
    "    # ^: Would this be a more general form, or does it just coincide for our case?\n",
    "    return l, l_gen, l_orig\n",
    "\n",
    "\n",
    "def print_ex():\n",
    "    print(f\"poly | dim ||     l_r ~  l_g  || l_r/l_a          l_morten\")\n",
    "    for j in range(1,4):\n",
    "        print()\n",
    "        for i in range(1,6):\n",
    "            lrange, lgen, lorig = compute_n_predictors(i,j)\n",
    "            print(f\"{i:>4d} | {j:>3d} ||    {float(lrange):>4} ~ {float(lgen):>4}  || {lrange/lgen:>4}            {float(lorig):>4} \")\n",
    "\n",
    "print_ex()"
   ]
  }
 ]
}